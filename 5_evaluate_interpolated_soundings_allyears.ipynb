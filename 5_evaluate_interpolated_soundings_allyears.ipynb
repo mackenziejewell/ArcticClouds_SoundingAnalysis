{
 "cells": [
  {
   "cell_type": "markdown",
   "id": "3950e987",
   "metadata": {},
   "source": [
    "# Routine to read in available sounding data and interpolate to regular height interval (all years)\n",
    "\n",
    "\n",
    "https://weather.uwyo.edu/upperair/sounding.html"
   ]
  },
  {
   "cell_type": "code",
   "execution_count": 1,
   "id": "4f03ee80",
   "metadata": {},
   "outputs": [],
   "source": [
    "import numpy as np\n",
    "import matplotlib\n",
    "import matplotlib.pyplot as plt\n",
    "matplotlib.rcParams.update({'font.size': 12})\n",
    "import xarray as xr\n",
    "import pandas as pd\n",
    "from datetime import datetime\n",
    "from datetime import timedelta\n",
    "\n",
    "# meteorology - specific\n",
    "from metpy.calc import relative_humidity_from_dewpoint\n",
    "from metpy.units import units\n",
    "from siphon.simplewebservice.wyoming import WyomingUpperAir\n",
    "\n",
    "import sys\n",
    "sys.path.append('./scripts/')\n",
    "\n",
    "from LIB_dates import generate_date_list\n",
    "from LIB_request_WUA_sounding import check_for_WUA_soundings\n",
    "from LIB_sounding_analysis import interpolate_soundings\n",
    "from LIB_sounding_date_checks import grab_sounding_dates"
   ]
  },
  {
   "cell_type": "markdown",
   "id": "61aa9a8f",
   "metadata": {},
   "source": [
    "### Specify parameters to retreive sounding data\n",
    "\n",
    "season should be either 'winter', 'spring', 'summer', 'autumn', or 'all' for all year"
   ]
  },
  {
   "cell_type": "code",
   "execution_count": 155,
   "id": "aaf81780",
   "metadata": {},
   "outputs": [
    {
     "data": {
      "text/plain": [
       "92"
      ]
     },
     "execution_count": 155,
     "metadata": {},
     "output_type": "execute_result"
    }
   ],
   "source": [
    "# specify year, season, sounding hours\n",
    "# specify site and height range\n",
    "#===============================\n",
    "years = [1998, 1999]\n",
    "season = 'spring'\n",
    "hours = [12]\n",
    "\n",
    "station = 'PABR'\n",
    "\n",
    "max_height = 6*units.kilometer\n",
    "min_height =  0*units.kilometer\n",
    "bin_width = 0.1*units.kilometer\n",
    "#===============================\n",
    "\n",
    "# julian day ranges for each season\n",
    "season_bounds = {}\n",
    "season_bounds['winter'] = {'start': 0,   'end': 91}\n",
    "season_bounds['spring'] = {'start': 91,  'end': 182}\n",
    "season_bounds['summer'] = {'start': 182, 'end': 274}\n",
    "season_bounds['autumn'] = {'start': 274, 'end': 366}\n",
    "\n",
    "\n",
    "# create date range for season\n",
    "date_i = datetime.strptime(f\"{year}-{int(season_bounds[season]['start'])}-{int(hours[0])}\", '%Y-%j-%H')\n",
    "date_f = datetime.strptime(f\"{year}-{int(season_bounds[season]['end'])}-{int(hours[0])}\", '%Y-%j-%H')\n",
    "num_days = (date_f-date_i).days\n",
    "date_list = generate_date_list(date_i=date_i, date_f=date_f, hourly=24)\n",
    "len(date_list)"
   ]
  },
  {
   "cell_type": "code",
   "execution_count": null,
   "id": "fe619ab7",
   "metadata": {},
   "outputs": [],
   "source": [
    "### NEED TO MAKE BELOW RUN FOR ALL DOY IN SEASON, BUT CHECK AGAINST SOU TO SEE IF IT SHOULD GRAB DATA OR IF DATA DOES NOT EXIST\n",
    "\n"
   ]
  },
  {
   "cell_type": "code",
   "execution_count": 168,
   "id": "b96d04e6",
   "metadata": {},
   "outputs": [
    {
     "data": {
      "text/plain": [
       "91"
      ]
     },
     "execution_count": 168,
     "metadata": {},
     "output_type": "execute_result"
    }
   ],
   "source": [
    "doy_soundings = doy[(doy>(season_bounds[season]['start']))&\n",
    "                            (doy<=(season_bounds[season]['end']))]\n",
    "\n",
    "len(doy_soundings)"
   ]
  },
  {
   "cell_type": "markdown",
   "id": "4ed813f6",
   "metadata": {},
   "source": [
    "### Retrieve and interpolate data"
   ]
  },
  {
   "cell_type": "code",
   "execution_count": 156,
   "id": "eb666977",
   "metadata": {},
   "outputs": [
    {
     "name": "stdout",
     "output_type": "stream",
     "text": [
      "1998-04-01 12:00:00\n",
      "1998-04-02 12:00:00\n",
      "1998-04-03 12:00:00\n",
      "1998-04-04 12:00:00\n",
      "1998-04-05 12:00:00\n",
      "1998-04-06 12:00:00\n",
      "1998-04-07 12:00:00\n",
      "1998-04-08 12:00:00\n",
      "1998-04-09 12:00:00\n",
      "1998-04-10 12:00:00\n",
      "1998-04-11 12:00:00\n",
      "1998-04-12 12:00:00\n",
      "1998-04-13 12:00:00\n",
      "1998-04-14 12:00:00\n",
      "1998-04-15 12:00:00\n",
      "1998-04-16 12:00:00\n",
      "1998-04-17 12:00:00\n",
      "1998-04-19 12:00:00\n",
      "1998-04-20 12:00:00\n",
      "1998-04-21 12:00:00\n",
      "1998-04-22 12:00:00\n",
      "1998-04-23 12:00:00\n",
      "1998-04-24 12:00:00\n",
      "1998-04-25 12:00:00\n",
      "1998-04-26 12:00:00\n",
      "1998-04-27 12:00:00\n",
      "1998-04-28 12:00:00\n",
      "1998-04-29 12:00:00\n",
      "1998-04-30 12:00:00\n",
      "1998-05-01 12:00:00\n",
      "1998-05-02 12:00:00\n",
      "1998-05-03 12:00:00\n",
      "1998-05-05 12:00:00\n",
      "1998-05-06 12:00:00\n",
      "1998-05-07 12:00:00\n",
      "1998-05-08 12:00:00\n",
      "1998-05-09 12:00:00\n",
      "1998-05-10 12:00:00\n",
      "1998-05-11 12:00:00\n",
      "1998-05-12 12:00:00\n",
      "1998-05-13 12:00:00\n",
      "1998-05-14 12:00:00\n",
      "1998-05-15 12:00:00\n",
      "1998-05-16 12:00:00\n",
      "1998-05-19 12:00:00\n",
      "1998-05-20 12:00:00\n",
      "1998-05-21 12:00:00\n",
      "1998-05-22 12:00:00\n",
      "1998-05-23 12:00:00\n",
      "1998-05-24 12:00:00\n",
      "1998-05-25 12:00:00\n",
      "1998-05-26 12:00:00\n",
      "1998-05-27 12:00:00\n",
      "1998-05-28 12:00:00\n",
      "1998-05-29 12:00:00\n",
      "1998-05-30 12:00:00\n",
      "1998-05-31 12:00:00\n",
      "1998-06-01 12:00:00\n",
      "1998-06-02 12:00:00\n",
      "1998-06-03 12:00:00\n",
      "1998-06-04 12:00:00\n",
      "1998-06-05 12:00:00\n",
      "1998-06-07 12:00:00\n",
      "1998-06-08 12:00:00\n",
      "1998-06-09 12:00:00\n",
      "1998-06-10 12:00:00\n",
      "1998-06-11 12:00:00\n",
      "1998-06-13 12:00:00\n",
      "1998-06-14 12:00:00\n",
      "1998-06-15 12:00:00\n",
      "1998-06-16 12:00:00\n",
      "1998-06-17 12:00:00\n",
      "1998-06-18 12:00:00\n",
      "1998-06-19 12:00:00\n",
      "1998-06-20 12:00:00\n",
      "1998-06-21 12:00:00\n",
      "1998-06-22 12:00:00\n",
      "1998-06-23 12:00:00\n",
      "1998-06-24 12:00:00\n",
      "1998-06-25 12:00:00\n",
      "1998-06-26 12:00:00\n",
      "1998-06-27 12:00:00\n",
      "1998-06-28 12:00:00\n",
      "1998-06-29 12:00:00\n",
      "1998-06-30 12:00:00\n",
      "1999-04-01 12:00:00\n",
      "1999-04-02 12:00:00\n",
      "1999-04-03 12:00:00\n",
      "1999-04-04 12:00:00\n",
      "1999-04-06 12:00:00\n",
      "1999-04-07 12:00:00\n",
      "1999-04-08 12:00:00\n",
      "1999-04-09 12:00:00\n",
      "1999-04-10 12:00:00\n",
      "1999-04-11 12:00:00\n",
      "1999-04-12 12:00:00\n",
      "1999-04-13 12:00:00\n",
      "1999-04-14 12:00:00\n",
      "1999-04-15 12:00:00\n",
      "1999-04-16 12:00:00\n",
      "1999-04-17 12:00:00\n",
      "1999-04-18 12:00:00\n",
      "1999-04-19 12:00:00\n",
      "1999-04-20 12:00:00\n",
      "1999-04-21 12:00:00\n",
      "1999-04-22 12:00:00\n",
      "1999-04-23 12:00:00\n",
      "1999-04-24 12:00:00\n",
      "1999-04-25 12:00:00\n",
      "1999-04-27 12:00:00\n",
      "1999-04-28 12:00:00\n",
      "1999-04-29 12:00:00\n",
      "1999-04-30 12:00:00\n",
      "  - issue with retrieval on 1999-04-30 12:00:00\n",
      "1999-05-01 12:00:00\n",
      "1999-05-03 12:00:00\n",
      "1999-05-04 12:00:00\n",
      "1999-05-05 12:00:00\n",
      "1999-05-06 12:00:00\n",
      "1999-05-07 12:00:00\n",
      "1999-05-08 12:00:00\n",
      "1999-05-09 12:00:00\n",
      "1999-05-10 12:00:00\n",
      "1999-05-11 12:00:00\n",
      "1999-05-12 12:00:00\n",
      "1999-05-13 12:00:00\n",
      "1999-05-14 12:00:00\n",
      "1999-05-15 12:00:00\n",
      "1999-05-17 12:00:00\n",
      "1999-05-18 12:00:00\n",
      "1999-05-19 12:00:00\n",
      "1999-05-20 12:00:00\n",
      "1999-05-21 12:00:00\n",
      "1999-05-22 12:00:00\n",
      "1999-05-23 12:00:00\n",
      "1999-05-24 12:00:00\n",
      "1999-05-25 12:00:00\n",
      "1999-05-26 12:00:00\n",
      "1999-05-27 12:00:00\n",
      "1999-05-28 12:00:00\n",
      "1999-05-29 12:00:00\n",
      "1999-05-30 12:00:00\n",
      "1999-05-31 12:00:00\n",
      "1999-06-01 12:00:00\n",
      "1999-06-02 12:00:00\n",
      "1999-06-03 12:00:00\n",
      "  - issue with retrieval on 1999-06-03 12:00:00\n",
      "1999-06-04 12:00:00\n",
      "1999-06-05 12:00:00\n",
      "1999-06-06 12:00:00\n",
      "1999-06-07 12:00:00\n",
      "1999-06-08 12:00:00\n",
      "1999-06-09 12:00:00\n",
      "1999-06-10 12:00:00\n",
      "1999-06-11 12:00:00\n",
      "1999-06-12 12:00:00\n",
      "1999-06-13 12:00:00\n",
      "1999-06-14 12:00:00\n",
      "1999-06-15 12:00:00\n",
      "1999-06-16 12:00:00\n",
      "1999-06-17 12:00:00\n",
      "1999-06-18 12:00:00\n",
      "1999-06-19 12:00:00\n",
      "1999-06-20 12:00:00\n",
      "1999-06-21 12:00:00\n",
      "1999-06-22 12:00:00\n",
      "1999-06-23 12:00:00\n",
      "1999-06-24 12:00:00\n",
      "1999-06-25 12:00:00\n",
      "1999-06-26 12:00:00\n",
      "1999-06-27 12:00:00\n",
      "1999-06-28 12:00:00\n",
      "1999-06-29 12:00:00\n",
      "1999-06-30 12:00:00\n"
     ]
    }
   ],
   "source": [
    "# all_RH = np.empty([60, 5, len(years)])# np.array([])\n",
    "# all_T = np.array([])\n",
    "# all_dates = np.array([])\n",
    "# all_doy = np.array([])\n",
    "\n",
    "\n",
    "\n",
    "for yy, year in enumerate(years):\n",
    "    \n",
    "#     all_RH_per_year = np.array([])\n",
    "#     all_T_per_year = np.array([])\n",
    "\n",
    "    # find all julian days (/hours) with soundings for given year\n",
    "    doy, sou, year = grab_sounding_dates(csv=f'./sounding_checks/checked_{year}0101Z00_{year}1231Z23_hourly6.csv', hours=hours)\n",
    "    days_with_soundings = doy[sou==1]\n",
    "\n",
    "    # crop days to specified season\n",
    "    if str(season) == 'all':\n",
    "        doy_soundings = days_with_soundings\n",
    "    else:\n",
    "        doy_soundings = doy[(doy>(season_bounds[season]['start']))&\n",
    "                            (doy<=(season_bounds[season]['end']))]\n",
    "        \n",
    "#         doy_soundings = days_with_soundings[(days_with_soundings>(season_bounds[season]['start']))&\n",
    "#                                               (days_with_soundings<=(season_bounds[season]['end']))]\n",
    "        \n",
    "        \n",
    "    for ii in range(len(doy_soundings)):\n",
    "\n",
    "        # create date\n",
    "        jdoy = int(doy_soundings[ii]) # round down to julian day\n",
    "        hour = int(24*(doy_soundings[ii]%1)) # grab hours\n",
    "        date = datetime.strptime(f'{year}-{jdoy}-{hour}', '%Y-%j-%H')\n",
    "\n",
    "        print(date)\n",
    "\n",
    "        # request data using siphon\n",
    "        # try request multiple times in case there is error with first\n",
    "        num_tries = 5\n",
    "        for attempt in range(num_tries):\n",
    "            try:\n",
    "                df = WyomingUpperAir.request_data(date, station)\n",
    "                worked = True\n",
    "            except:\n",
    "                worked = False\n",
    "            if worked == True:\n",
    "                break\n",
    "        if worked == False:\n",
    "            df = []\n",
    "            print(f\"No data available for {date}\")\n",
    "\n",
    "        # if data request was succesful:\n",
    "        # pull out T, Td, H and calculate RH\n",
    "        #-----------------------------------\n",
    "        if len(df) > 0:\n",
    "\n",
    "            # assign units to all data\n",
    "            height = df['height'].values * units(df.units['height']).to(units.kilometer)\n",
    "            temperature = df['temperature'].values * units(df.units['temperature'])\n",
    "            dewpoint = df['dewpoint'].values * units(df.units['dewpoint'])\n",
    "\n",
    "            # crop all to below 10 km\n",
    "            H = height[height < 10*units.kilometer]\n",
    "            T = temperature[height < 10*units.kilometer]\n",
    "            Td = dewpoint[height < 10*units.kilometer]\n",
    "\n",
    "            # calculate relative humidity\n",
    "            RH = relative_humidity_from_dewpoint(T, Td).to('percent')\n",
    "\n",
    "        # interpolate \n",
    "        #-----------------------------------  \n",
    "\n",
    "        try:\n",
    "            [new_RH, new_T], new_H, edges = interpolate_soundings(variable = [RH, T], heights = H, \n",
    "                                                                  bin_width = bin_width, min_height = min_height, \n",
    "                                                                  max_height = max_height, method = 'mean', \n",
    "                                                                  suppress_plots = True, suppress_prints = True)\n",
    "            \n",
    "            if yy == 0 and ii == 0:\n",
    "                all_RH = np.zeros([len(new_RH), num_days, len(years)])\n",
    "    \n",
    "            for rr, rh in enumerate(new_RH):\n",
    "                all_RH[rr, ii, yy] = new_RH[rr]*100\n",
    "            \n",
    "            \n",
    "#             all_RH = np.append(all_RH, new_RH)\n",
    "#             all_T = np.append(all_T, new_T)\n",
    "            \n",
    "#             all_RH_per_year = np.append(all_RH_per_year, new_RH)\n",
    "#             all_T_per_year = np.append(all_T_per_year, new_T)\n",
    "            \n",
    "            \n",
    "#             all_dates = np.append(all_dates, date)\n",
    "#             all_doy = np.append(all_doy, doy_soundings[ii])\n",
    "\n",
    "        except:\n",
    "            print(f'  - issue with retrieval on {date}')\n",
    "            \n",
    "            # fill entries with nans if issue arises with data retreival\n",
    "            for rr, rh in enumerate(new_RH):\n",
    "                all_RH[rr, ii, yy] = np.nan\n",
    "\n",
    "#     # reshape to dimensions: date, height\n",
    "#     RH = np.reshape(all_RH, (int(len(all_RH)/len(new_H)), len(new_H)))\n",
    "#     T = np.reshape(all_T, (int(len(all_T)/len(new_H)), len(new_H)))\n",
    "\n",
    "#     # create grids to plot with pcolormesh\n",
    "#     H, dates = np.meshgrid(new_H.magnitude, all_dates)\n",
    "#     H, DOY = np.meshgrid(new_H.magnitude, all_doy)"
   ]
  },
  {
   "cell_type": "markdown",
   "id": "a495f08e",
   "metadata": {},
   "source": [
    "### plot seasonal relative humidity and temperatures"
   ]
  },
  {
   "cell_type": "code",
   "execution_count": 162,
   "id": "6233a50e",
   "metadata": {},
   "outputs": [
    {
     "data": {
      "text/plain": [
       "<matplotlib.colorbar.Colorbar at 0x7fe6d3cbbfa0>"
      ]
     },
     "execution_count": 162,
     "metadata": {},
     "output_type": "execute_result"
    },
    {
     "data": {
      "image/png": "[encoded data removed]",
      "text/plain": [
       "<Figure size 1000x200 with 2 Axes>"
      ]
     },
     "metadata": {},
     "output_type": "display_data"
    }
   ],
   "source": [
    "\n",
    "fig, ax = plt.subplots(figsize=(10,2))\n",
    "ax.set_facecolor('lightgray')\n",
    "rh = ax.pcolormesh(all_RH[:,:,1], vmin=0, vmax=100, cmap='plasma')\n",
    "plt.colorbar(rh, label='RH (%)')\n",
    "\n"
   ]
  },
  {
   "cell_type": "markdown",
   "id": "28ce11f2",
   "metadata": {},
   "source": [
    "### Plot frequency of RH threshold passed seasonall as a function of height"
   ]
  },
  {
   "cell_type": "code",
   "execution_count": 4,
   "id": "816622a1",
   "metadata": {},
   "outputs": [
    {
     "ename": "ValueError",
     "evalue": "x and y must have same first dimension, but have shapes (1,) and (60,)",
     "output_type": "error",
     "traceback": [
      "\u001b[0;31m---------------------------------------------------------------------------\u001b[0m",
      "\u001b[0;31mValueError\u001b[0m                                Traceback (most recent call last)",
      "Cell \u001b[0;32mIn[4], line 8\u001b[0m\n\u001b[1;32m      5\u001b[0m rh_freq \u001b[38;5;241m=\u001b[39m \u001b[38;5;241m100\u001b[39m\u001b[38;5;241m*\u001b[39mnp\u001b[38;5;241m.\u001b[39msum(RH\u001b[38;5;241m>\u001b[39m\u001b[38;5;241m=\u001b[39mrh_thresh, axis\u001b[38;5;241m=\u001b[39m\u001b[38;5;241m0\u001b[39m)\u001b[38;5;241m/\u001b[39mRH\u001b[38;5;241m.\u001b[39mshape[\u001b[38;5;241m0\u001b[39m]\n\u001b[1;32m      7\u001b[0m fig, ax \u001b[38;5;241m=\u001b[39m plt\u001b[38;5;241m.\u001b[39msubplots(figsize\u001b[38;5;241m=\u001b[39m(\u001b[38;5;241m2\u001b[39m,\u001b[38;5;241m5\u001b[39m))\n\u001b[0;32m----> 8\u001b[0m \u001b[43max\u001b[49m\u001b[38;5;241;43m.\u001b[39;49m\u001b[43mplot\u001b[49m\u001b[43m(\u001b[49m\u001b[43mrh_freq\u001b[49m\u001b[43m,\u001b[49m\u001b[43m \u001b[49m\u001b[43mnew_H\u001b[49m\u001b[43m,\u001b[49m\u001b[43m \u001b[49m\u001b[43mcolor\u001b[49m\u001b[38;5;241;43m=\u001b[39;49m\u001b[38;5;124;43m'\u001b[39;49m\u001b[38;5;124;43mk\u001b[39;49m\u001b[38;5;124;43m'\u001b[39;49m\u001b[43m,\u001b[49m\u001b[43m \u001b[49m\u001b[43mlw\u001b[49m\u001b[43m \u001b[49m\u001b[38;5;241;43m=\u001b[39;49m\u001b[43m \u001b[49m\u001b[38;5;241;43m2\u001b[39;49m\u001b[43m,\u001b[49m\u001b[43m \u001b[49m\u001b[43mlabel\u001b[49m\u001b[38;5;241;43m=\u001b[39;49m\u001b[38;5;124;43m'\u001b[39;49m\u001b[38;5;124;43mwinter\u001b[39;49m\u001b[38;5;124;43m'\u001b[39;49m\u001b[43m)\u001b[49m\n\u001b[1;32m      9\u001b[0m ax\u001b[38;5;241m.\u001b[39mset_title(\u001b[38;5;124mf\u001b[39m\u001b[38;5;124m'\u001b[39m\u001b[38;5;124mRH >= \u001b[39m\u001b[38;5;132;01m{\u001b[39;00mrh_thresh\u001b[38;5;132;01m}\u001b[39;00m\u001b[38;5;124m'\u001b[39m)\n\u001b[1;32m     10\u001b[0m ax\u001b[38;5;241m.\u001b[39mset_xlabel(\u001b[38;5;124m'\u001b[39m\u001b[38;5;124mfrequency (\u001b[39m\u001b[38;5;124m%\u001b[39m\u001b[38;5;124m)\u001b[39m\u001b[38;5;124m'\u001b[39m)\n",
      "File \u001b[0;32m/opt/anaconda3/envs/geoenvOSU/lib/python3.9/site-packages/matplotlib/axes/_axes.py:1632\u001b[0m, in \u001b[0;36mAxes.plot\u001b[0;34m(self, scalex, scaley, data, *args, **kwargs)\u001b[0m\n\u001b[1;32m   1390\u001b[0m \u001b[38;5;124;03m\"\"\"\u001b[39;00m\n\u001b[1;32m   1391\u001b[0m \u001b[38;5;124;03mPlot y versus x as lines and/or markers.\u001b[39;00m\n\u001b[1;32m   1392\u001b[0m \n\u001b[0;32m   (...)\u001b[0m\n\u001b[1;32m   1629\u001b[0m \u001b[38;5;124;03m(``'green'``) or hex strings (``'#008000'``).\u001b[39;00m\n\u001b[1;32m   1630\u001b[0m \u001b[38;5;124;03m\"\"\"\u001b[39;00m\n\u001b[1;32m   1631\u001b[0m kwargs \u001b[38;5;241m=\u001b[39m cbook\u001b[38;5;241m.\u001b[39mnormalize_kwargs(kwargs, mlines\u001b[38;5;241m.\u001b[39mLine2D)\n\u001b[0;32m-> 1632\u001b[0m lines \u001b[38;5;241m=\u001b[39m [\u001b[38;5;241m*\u001b[39m\u001b[38;5;28mself\u001b[39m\u001b[38;5;241m.\u001b[39m_get_lines(\u001b[38;5;241m*\u001b[39margs, data\u001b[38;5;241m=\u001b[39mdata, \u001b[38;5;241m*\u001b[39m\u001b[38;5;241m*\u001b[39mkwargs)]\n\u001b[1;32m   1633\u001b[0m \u001b[38;5;28;01mfor\u001b[39;00m line \u001b[38;5;129;01min\u001b[39;00m lines:\n\u001b[1;32m   1634\u001b[0m     \u001b[38;5;28mself\u001b[39m\u001b[38;5;241m.\u001b[39madd_line(line)\n",
      "File \u001b[0;32m/opt/anaconda3/envs/geoenvOSU/lib/python3.9/site-packages/matplotlib/axes/_base.py:312\u001b[0m, in \u001b[0;36m_process_plot_var_args.__call__\u001b[0;34m(self, data, *args, **kwargs)\u001b[0m\n\u001b[1;32m    310\u001b[0m     this \u001b[38;5;241m+\u001b[39m\u001b[38;5;241m=\u001b[39m args[\u001b[38;5;241m0\u001b[39m],\n\u001b[1;32m    311\u001b[0m     args \u001b[38;5;241m=\u001b[39m args[\u001b[38;5;241m1\u001b[39m:]\n\u001b[0;32m--> 312\u001b[0m \u001b[38;5;28;01myield from\u001b[39;00m \u001b[38;5;28;43mself\u001b[39;49m\u001b[38;5;241;43m.\u001b[39;49m\u001b[43m_plot_args\u001b[49m\u001b[43m(\u001b[49m\u001b[43mthis\u001b[49m\u001b[43m,\u001b[49m\u001b[43m \u001b[49m\u001b[43mkwargs\u001b[49m\u001b[43m)\u001b[49m\n",
      "File \u001b[0;32m/opt/anaconda3/envs/geoenvOSU/lib/python3.9/site-packages/matplotlib/axes/_base.py:498\u001b[0m, in \u001b[0;36m_process_plot_var_args._plot_args\u001b[0;34m(self, tup, kwargs, return_kwargs)\u001b[0m\n\u001b[1;32m    495\u001b[0m     \u001b[38;5;28mself\u001b[39m\u001b[38;5;241m.\u001b[39maxes\u001b[38;5;241m.\u001b[39myaxis\u001b[38;5;241m.\u001b[39mupdate_units(y)\n\u001b[1;32m    497\u001b[0m \u001b[38;5;28;01mif\u001b[39;00m x\u001b[38;5;241m.\u001b[39mshape[\u001b[38;5;241m0\u001b[39m] \u001b[38;5;241m!=\u001b[39m y\u001b[38;5;241m.\u001b[39mshape[\u001b[38;5;241m0\u001b[39m]:\n\u001b[0;32m--> 498\u001b[0m     \u001b[38;5;28;01mraise\u001b[39;00m \u001b[38;5;167;01mValueError\u001b[39;00m(\u001b[38;5;124mf\u001b[39m\u001b[38;5;124m\"\u001b[39m\u001b[38;5;124mx and y must have same first dimension, but \u001b[39m\u001b[38;5;124m\"\u001b[39m\n\u001b[1;32m    499\u001b[0m                      \u001b[38;5;124mf\u001b[39m\u001b[38;5;124m\"\u001b[39m\u001b[38;5;124mhave shapes \u001b[39m\u001b[38;5;132;01m{\u001b[39;00mx\u001b[38;5;241m.\u001b[39mshape\u001b[38;5;132;01m}\u001b[39;00m\u001b[38;5;124m and \u001b[39m\u001b[38;5;132;01m{\u001b[39;00my\u001b[38;5;241m.\u001b[39mshape\u001b[38;5;132;01m}\u001b[39;00m\u001b[38;5;124m\"\u001b[39m)\n\u001b[1;32m    500\u001b[0m \u001b[38;5;28;01mif\u001b[39;00m x\u001b[38;5;241m.\u001b[39mndim \u001b[38;5;241m>\u001b[39m \u001b[38;5;241m2\u001b[39m \u001b[38;5;129;01mor\u001b[39;00m y\u001b[38;5;241m.\u001b[39mndim \u001b[38;5;241m>\u001b[39m \u001b[38;5;241m2\u001b[39m:\n\u001b[1;32m    501\u001b[0m     \u001b[38;5;28;01mraise\u001b[39;00m \u001b[38;5;167;01mValueError\u001b[39;00m(\u001b[38;5;124mf\u001b[39m\u001b[38;5;124m\"\u001b[39m\u001b[38;5;124mx and y can be no greater than 2D, but have \u001b[39m\u001b[38;5;124m\"\u001b[39m\n\u001b[1;32m    502\u001b[0m                      \u001b[38;5;124mf\u001b[39m\u001b[38;5;124m\"\u001b[39m\u001b[38;5;124mshapes \u001b[39m\u001b[38;5;132;01m{\u001b[39;00mx\u001b[38;5;241m.\u001b[39mshape\u001b[38;5;132;01m}\u001b[39;00m\u001b[38;5;124m and \u001b[39m\u001b[38;5;132;01m{\u001b[39;00my\u001b[38;5;241m.\u001b[39mshape\u001b[38;5;132;01m}\u001b[39;00m\u001b[38;5;124m\"\u001b[39m)\n",
      "\u001b[0;31mValueError\u001b[0m: x and y must have same first dimension, but have shapes (1,) and (60,)"
     ]
    },
    {
     "data": {
      "image/png": "[encoded data removed]",
      "text/plain": [
       "<Figure size 200x500 with 1 Axes>"
      ]
     },
     "metadata": {},
     "output_type": "display_data"
    }
   ],
   "source": [
    "#===========================\n",
    "rh_thresh = 98*units.percent\n",
    "#===========================\n",
    "\n",
    "rh_freq = 100*np.sum(RH>=rh_thresh, axis=0)/RH.shape[0]\n",
    "\n",
    "fig, ax = plt.subplots(figsize=(2,5))\n",
    "ax.plot(rh_freq, new_H, color='k', lw = 2, label='winter')\n",
    "ax.set_title(f'RH >= {rh_thresh}')\n",
    "ax.set_xlabel('frequency (%)')"
   ]
  },
  {
   "cell_type": "code",
   "execution_count": 13,
   "id": "43a5c374",
   "metadata": {},
   "outputs": [
    {
     "data": {
      "text/plain": [
       "<matplotlib.legend.Legend at 0x7fddd17bbf10>"
      ]
     },
     "execution_count": 13,
     "metadata": {},
     "output_type": "execute_result"
    },
    {
     "data": {
      "image/png": "[encoded data removed]",
      "text/plain": [
       "<Figure size 200x500 with 1 Axes>"
      ]
     },
     "metadata": {},
     "output_type": "display_data"
    }
   ],
   "source": [
    "\n",
    "def plot_var_spread(ax, var, color='red', label = 'winter'):\n",
    "    ax.plot(np.mean(var, axis=0), new_H, color=COLOR, lw = 2, label=label)\n",
    "#     ax.plot(np.mean(var.magnitude, axis=0)-np.std(var.magnitude, axis=0), new_H, color=COLOR, lw = 0.5)\n",
    "#     ax.plot(np.mean(var.magnitude, axis=0)+np.std(var.magnitude, axis=0), new_H, color=COLOR, lw = 0.5)\n",
    "    ax.fill_betweenx(new_H,np.mean(var.magnitude, axis=0)-np.std(var.magnitude, axis=0), np.mean(var.magnitude, axis=0)+np.std(var.magnitude, axis=0),\n",
    "                    alpha=0.1, zorder=-1, color=COLOR)\n",
    "    \n",
    "    \n",
    "    \n",
    "fig, ax = plt.subplots(figsize=(2,5))\n",
    "\n",
    "#==========\n",
    "VAR = RH\n",
    "#==========\n",
    "\n",
    "COLOR = 'blue'\n",
    "var = VAR\n",
    "plot_var_spread(ax, var, color=COLOR, label = 'winter')\n",
    "\n",
    "# COLOR = 'dodgerblue'\n",
    "# var = VAR[np.where(all_doy==90)[0][0]:np.where(all_doy==182)[0][0], :]\n",
    "# plot_var_spread(ax, var, color=COLOR, label = 'spring')\n",
    "\n",
    "# COLOR = 'indianred'\n",
    "# var = VAR[np.where(all_doy==182)[0][0]:np.where(all_doy==274)[0][0], :]\n",
    "# plot_var_spread(ax, var, color=COLOR, label = 'summer')\n",
    "\n",
    "# COLOR = 'darkorange'\n",
    "# var = VAR[np.where(all_doy==274)[0][0]:, :]\n",
    "# plot_var_spread(ax, var, color=COLOR, label = 'autumn')\n",
    "\n",
    "\n",
    "ax.set_title(f'{year}')\n",
    "plt.legend(fontsize=8)\n"
   ]
  },
  {
   "cell_type": "code",
   "execution_count": null,
   "id": "f5d0671e",
   "metadata": {},
   "outputs": [],
   "source": []
  }
 ],
 "metadata": {
  "kernelspec": {
   "display_name": "geoenvOSU",
   "language": "python",
   "name": "geoenvosu"
  },
  "language_info": {
   "codemirror_mode": {
    "name": "ipython",
    "version": 3
   },
   "file_extension": ".py",
   "mimetype": "text/x-python",
   "name": "python",
   "nbconvert_exporter": "python",
   "pygments_lexer": "ipython3",
   "version": "3.9.12"
  }
 },
 "nbformat": 4,
 "nbformat_minor": 5
}
