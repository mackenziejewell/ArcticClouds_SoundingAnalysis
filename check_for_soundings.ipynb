{
 "cells": [
  {
   "cell_type": "markdown",
   "id": "3950e987",
   "metadata": {},
   "source": [
    "# Use  [siphon](https://unidata.github.io/siphon/latest/examples/upperair/Wyoming_Request.html#sphx-glr-examples-upperair-wyoming-request-py) to check whether [Wyoming Upper Air sounding](https://weather.uwyo.edu/upperair/sounding.html) data exists on specified dates\n",
    "\n",
    "\n",
    "Sounding data interface:\n",
    "https://weather.uwyo.edu/upperair/sounding.html"
   ]
  },
  {
   "cell_type": "code",
   "execution_count": 1,
   "id": "4f03ee80",
   "metadata": {},
   "outputs": [],
   "source": [
    "import numpy as np\n",
    "import matplotlib\n",
    "import matplotlib.pyplot as plt\n",
    "matplotlib.rcParams.update({'font.size': 12})\n",
    "import pandas as pd\n",
    "from datetime import datetime\n",
    "from datetime import timedelta\n",
    "\n",
    "# meteorology - specific\n",
    "from siphon.simplewebservice.wyoming import WyomingUpperAir\n",
    "\n",
    "import sys\n",
    "sys.path.append('./scripts/')\n",
    "\n",
    "from LIB_dates import generate_date_list\n",
    "from LIB_request_WUA_sounding import check_for_WUA_soundings"
   ]
  },
  {
   "cell_type": "markdown",
   "id": "9edb8cc7",
   "metadata": {},
   "source": [
    "### Create list of dates to check"
   ]
  },
  {
   "cell_type": "code",
   "execution_count": 2,
   "id": "26c35523",
   "metadata": {},
   "outputs": [
    {
     "name": "stdout",
     "output_type": "stream",
     "text": [
      " >>> list of length 1464 generated with 6-hourly steps between 2020-01-01 00:00:00 and 2020-12-31 18:00:00\n",
      " >>> with provided values, final date 2020-12-31 18:00:00 does not match provided date_f\n"
     ]
    }
   ],
   "source": [
    "#===============================\n",
    "# initial date\n",
    "date_i = datetime(2020, 1, 1, 0)\n",
    "# final date\n",
    "date_f = datetime(2020, 12, 31, 23)\n",
    "# time step in hours\n",
    "hourly = 6\n",
    "#===============================\n",
    "\n",
    "# homemade function\n",
    "# use help(generate_date_list) for details\n",
    "dates = generate_date_list(date_i = date_i, date_f = date_f, hourly = hourly, suppress_prints = False)"
   ]
  },
  {
   "cell_type": "markdown",
   "id": "9e66d50f",
   "metadata": {},
   "source": [
    "### Use siphon to check whether sounding data exists on given dates\n",
    "save dates to pandas data frame with sounding_exist == 1 when data exists and sounding_exist == 0 when no data found"
   ]
  },
  {
   "cell_type": "code",
   "execution_count": null,
   "id": "c05884f5",
   "metadata": {},
   "outputs": [
    {
     "name": "stdout",
     "output_type": "stream",
     "text": [
      "anticipated runtime: 24.4 minutes\n"
     ]
    }
   ],
   "source": [
    "starttime = datetime.now()\n",
    "print(f'anticipated runtime: {(len(dates))/60} minutes')\n",
    "\n",
    "# homemade function\n",
    "# use help(check_for_WUA_soundings) for details\n",
    "df = check_for_WUA_soundings(date_list = dates, station = 'PABR', suppress_prints=False)\n",
    "\n",
    "print(df)\n",
    "\n",
    "print(f'\\n\\nruntime: {datetime.now()-starttime}')"
   ]
  },
  {
   "cell_type": "markdown",
   "id": "fbafe2dd",
   "metadata": {},
   "source": [
    "### Save list of dates to dataframe for later reference\n",
    "save dates to pandas data frame with sounding_exist == 1 when data exists and sounding_exist == 0 when no data found"
   ]
  },
  {
   "cell_type": "code",
   "execution_count": null,
   "id": "9cb6a565",
   "metadata": {},
   "outputs": [],
   "source": [
    "# create name of csv file from date range\n",
    "date_i_string = date_i.strftime('%Y%m%dZ%H')\n",
    "date_f_string = date_f.strftime('%Y%m%dZ%H')\n",
    "save_name = f'./sounding_checks/checked_{date_i_string}_{date_f_string}_hourly{hourly}.csv'\n",
    "\n",
    "# save file\n",
    "df.to_csv(path_or_buf=save_name, index=None)\n",
    "print(f' >>> saving file as {save_name}')\n",
    "\n",
    "pd.read_csv(save_name)"
   ]
  },
  {
   "cell_type": "code",
   "execution_count": null,
   "id": "123a5634",
   "metadata": {},
   "outputs": [],
   "source": []
  }
 ],
 "metadata": {
  "kernelspec": {
   "display_name": "geoenvOSU",
   "language": "python",
   "name": "geoenvosu"
  },
  "language_info": {
   "codemirror_mode": {
    "name": "ipython",
    "version": 3
   },
   "file_extension": ".py",
   "mimetype": "text/x-python",
   "name": "python",
   "nbconvert_exporter": "python",
   "pygments_lexer": "ipython3",
   "version": "3.9.12"
  }
 },
 "nbformat": 4,
 "nbformat_minor": 5
}
