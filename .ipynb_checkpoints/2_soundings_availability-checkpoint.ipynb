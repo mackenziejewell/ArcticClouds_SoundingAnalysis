{
 "cells": [
  {
   "cell_type": "markdown",
   "id": "3950e987",
   "metadata": {},
   "source": [
    "# Routine to look at when soundings are available at PABR site\n",
    "\n",
    "\n",
    "https://weather.uwyo.edu/upperair/sounding.html"
   ]
  },
  {
   "cell_type": "code",
   "execution_count": 1,
   "id": "4f03ee80",
   "metadata": {},
   "outputs": [],
   "source": [
    "import numpy as np\n",
    "import matplotlib\n",
    "import matplotlib.pyplot as plt\n",
    "matplotlib.rcParams.update({'font.size': 12})\n",
    "import xarray as xr\n",
    "import pandas as pd\n",
    "from datetime import datetime\n",
    "from datetime import timedelta\n",
    "\n",
    "# meteorology - specific\n",
    "from metpy.calc import relative_humidity_from_dewpoint\n",
    "from metpy.units import units\n",
    "from siphon.simplewebservice.wyoming import WyomingUpperAir\n",
    "\n",
    "import sys\n",
    "sys.path.append('./scripts/')\n",
    "\n",
    "from LIB_dates import generate_date_list\n",
    "from LIB_request_WUA_sounding import check_for_WUA_soundings\n",
    "from LIB_sounding_analysis import interpolate_soundings"
   ]
  },
  {
   "cell_type": "markdown",
   "id": "d1847175",
   "metadata": {},
   "source": [
    "### look at when requested [Wyoming Upper Air sounding](https://weather.uwyo.edu/upperair/sounding.html) data was available"
   ]
  },
  {
   "cell_type": "code",
   "execution_count": 2,
   "id": "286e42e4",
   "metadata": {},
   "outputs": [],
   "source": [
    "\n",
    "\n",
    "def grab_sounding_dates(year = 2000, hours = [0,6,12,18]):\n",
    "    \n",
    "    \n",
    "    # open csv file corresponding to year\n",
    "    ds = pd.read_csv(f'./sounding_checks/checked_{year}0101Z00_{year}1231Z23_hourly6.csv')\n",
    "    \n",
    "    doy = np.array([])\n",
    "    sou = np.array([])\n",
    "    \n",
    "    # pull out dates from soundings (as day of year)\n",
    "    for dd, date in enumerate(ds.date):\n",
    "    \n",
    "        # convert to datetime\n",
    "        date_asdatetime = pd.to_datetime(date)\n",
    "\n",
    "        # find julian day, with hour as decimal\n",
    "        DOY = int(date_asdatetime.strftime('%j')) + int(date_asdatetime.strftime('%H'))/24\n",
    "\n",
    "        # save specified hours of day\n",
    "        if (DOY%1)*24 in hours:\n",
    "            doy = np.append(doy, DOY)\n",
    "            sou = np.append(sou, ds.sounding_exist[dd])\n",
    "            \n",
    "    return doy, sou"
   ]
  },
  {
   "cell_type": "code",
   "execution_count": 3,
   "id": "c3e8e939",
   "metadata": {},
   "outputs": [],
   "source": [
    "doy20, sou20 = grab_sounding_dates(year = 2020, hours = [0,6,12,18])\n",
    "doy19, sou19 = grab_sounding_dates(year = 2019, hours = [0,6,12,18])"
   ]
  },
  {
   "cell_type": "code",
   "execution_count": 5,
   "id": "c6d1c293",
   "metadata": {},
   "outputs": [
    {
     "data": {
      "image/png": "[encoded data removed]",
      "text/plain": [
       "<Figure size 1008x144 with 1 Axes>"
      ]
     },
     "metadata": {
      "needs_background": "light"
     },
     "output_type": "display_data"
    }
   ],
   "source": [
    "fig, ax = plt.subplots(figsize=(14,2))\n",
    "\n",
    "doy_soundings19 = doy19[sou19==1]\n",
    "year_soundings19 = np.full_like(doy_soundings19, 2019)\n",
    "plt.scatter(doy_soundings19, year_soundings19, s=1, c='k', alpha=0.5, )\n",
    "\n",
    "doy_soundings20 = doy20[sou20==1]\n",
    "year_soundings20 = np.full_like(doy_soundings20, 2020)\n",
    "plt.scatter(doy_soundings20, year_soundings20, s=1, c='k', alpha=0.5, )\n",
    "\n",
    "\n",
    "ax.set_xlim(-5,370)\n",
    "ax.set_ylim(2000,2022)\n",
    "ax.set_xticks(np.arange(0,361,30))\n",
    "ax.set_xlabel('day of year')\n",
    "\n",
    "\n",
    "# generate mid month labels\n",
    "label_doys = []\n",
    "label_names = []\n",
    "for month_num in range(1,13):\n",
    "    if month_num < 6:\n",
    "        midmonth = 15\n",
    "    else:\n",
    "        midmonth = 12\n",
    "    label_doys.append(int(datetime(year = 2020, month = month_num, day = midmonth).strftime('%j')))\n",
    "    label_names.append(datetime(year = 2020, month = month_num, day = midmonth).strftime('%B')[:3])\n",
    "for ll, label in enumerate(label_names):\n",
    "    ax.text(label_doys[ll], 1995, label, c='dodgerblue', horizontalalignment='center')\n",
    "    \n",
    "    \n",
    "# ax.set_xticklabels(label_names)"
   ]
  },
  {
   "cell_type": "code",
   "execution_count": null,
   "id": "913e6f64",
   "metadata": {},
   "outputs": [],
   "source": []
  }
 ],
 "metadata": {
  "kernelspec": {
   "display_name": "geoenvOSU",
   "language": "python",
   "name": "geoenvosu"
  },
  "language_info": {
   "codemirror_mode": {
    "name": "ipython",
    "version": 3
   },
   "file_extension": ".py",
   "mimetype": "text/x-python",
   "name": "python",
   "nbconvert_exporter": "python",
   "pygments_lexer": "ipython3",
   "version": "3.9.12"
  }
 },
 "nbformat": 4,
 "nbformat_minor": 5
}
