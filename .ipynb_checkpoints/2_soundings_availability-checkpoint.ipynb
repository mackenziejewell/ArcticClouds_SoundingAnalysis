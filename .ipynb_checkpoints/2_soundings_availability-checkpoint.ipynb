{
 "cells": [
  {
   "cell_type": "markdown",
   "id": "3950e987",
   "metadata": {},
   "source": [
    "# Routine to look at when soundings are available at PABR site\n",
    "\n",
    "\n",
    "https://weather.uwyo.edu/upperair/sounding.html"
   ]
  },
  {
   "cell_type": "code",
   "execution_count": 1,
   "id": "4f03ee80",
   "metadata": {},
   "outputs": [],
   "source": [
    "import numpy as np\n",
    "import matplotlib\n",
    "import matplotlib.pyplot as plt\n",
    "matplotlib.rcParams.update({'font.size': 12})\n",
    "import pandas as pd\n",
    "from datetime import datetime\n",
    "\n",
    "import sys\n",
    "sys.path.append('./scripts/')\n",
    "\n",
    "from LIB_sounding_date_checks import grab_sounding_dates"
   ]
  },
  {
   "cell_type": "markdown",
   "id": "d1847175",
   "metadata": {},
   "source": [
    "### Look at when requested [Wyoming Upper Air sounding](https://weather.uwyo.edu/upperair/sounding.html) data was available"
   ]
  },
  {
   "cell_type": "code",
   "execution_count": 2,
   "id": "286e42e4",
   "metadata": {},
   "outputs": [],
   "source": [
    "# naming convention used for files, with {} = YYYY\n",
    "#======================================================================\n",
    "csv_name = './sounding_checks/checked_{}0101Z00_{}1231Z23_hourly6.csv'\n",
    "#======================================================================\n",
    "\n",
    "# function to plot dots when soundings where found\n",
    "def plot_soundingexist(doy, sou, year, s = 1, c = 'k', alpha = 0.5, marker='.'):\n",
    "    doy_soundings = doy[sou==1]\n",
    "    year_soundings = np.full_like(doy_soundings, year)\n",
    "    plt.scatter(doy_soundings, year_soundings, s=s, c=c, alpha=alpha, marker=marker)"
   ]
  },
  {
   "cell_type": "code",
   "execution_count": 3,
   "id": "c6d1c293",
   "metadata": {},
   "outputs": [
    {
     "data": {
      "text/plain": [
       "Text(0.5, 0, 'day of year')"
      ]
     },
     "execution_count": 3,
     "metadata": {},
     "output_type": "execute_result"
    },
    {
     "data": {
      "image/png": "[encoded data removed]",
      "text/plain": [
       "<Figure size 1008x216 with 1 Axes>"
      ]
     },
     "metadata": {
      "needs_background": "light"
     },
     "output_type": "display_data"
    }
   ],
   "source": [
    "\n",
    "# create figure\n",
    "fig, ax = plt.subplots(figsize=(14,3))\n",
    "\n",
    "# plot sounding existence for multiple years\n",
    "for year in np.arange( 2008 , 2021 ):\n",
    "    plot_soundingexist(*grab_sounding_dates(csv = csv_name.format(year,year), hours = [0,6,12,18]), \n",
    "                       s=2, alpha=0.25, marker='s')\n",
    "\n",
    "# generate mid month labels\n",
    "label_doys = []\n",
    "label_names = []\n",
    "for month_num in range(1,13):\n",
    "    if month_num < 6:\n",
    "        midmonth = 15\n",
    "    else:\n",
    "        midmonth = 12\n",
    "    label_doys.append(int(datetime(year = 2020, month = month_num, day = midmonth).strftime('%j')))\n",
    "    label_names.append(datetime(year = 2020, month = month_num, day = midmonth).strftime('%B')[:3])\n",
    "for ll, label in enumerate(label_names):\n",
    "    ax.text(label_doys[ll], 1998, label, c='dodgerblue', horizontalalignment='center')\n",
    "\n",
    "ax.set_xlim(-5,370)\n",
    "ax.set_ylim(2000,2022)\n",
    "ax.set_xticks(np.arange(0,361,30))\n",
    "ax.set_xlabel('day of year')"
   ]
  },
  {
   "cell_type": "code",
   "execution_count": null,
   "id": "913e6f64",
   "metadata": {},
   "outputs": [],
   "source": []
  }
 ],
 "metadata": {
  "kernelspec": {
   "display_name": "geoenvOSU",
   "language": "python",
   "name": "geoenvosu"
  },
  "language_info": {
   "codemirror_mode": {
    "name": "ipython",
    "version": 3
   },
   "file_extension": ".py",
   "mimetype": "text/x-python",
   "name": "python",
   "nbconvert_exporter": "python",
   "pygments_lexer": "ipython3",
   "version": "3.9.12"
  }
 },
 "nbformat": 4,
 "nbformat_minor": 5
}
