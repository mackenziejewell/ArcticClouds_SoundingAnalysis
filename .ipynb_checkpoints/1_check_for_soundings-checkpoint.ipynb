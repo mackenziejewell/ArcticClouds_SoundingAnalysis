{
 "cells": [
  {
   "cell_type": "markdown",
   "id": "3950e987",
   "metadata": {},
   "source": [
    "# Use  [siphon](https://unidata.github.io/siphon/latest/examples/upperair/Wyoming_Request.html#sphx-glr-examples-upperair-wyoming-request-py) to check whether [Wyoming Upper Air sounding](https://weather.uwyo.edu/upperair/sounding.html) data exists on specified dates\n",
    "\n",
    "\n",
    "Sounding data interface:\n",
    "https://weather.uwyo.edu/upperair/sounding.html"
   ]
  },
  {
   "cell_type": "code",
   "execution_count": 1,
   "id": "4f03ee80",
   "metadata": {},
   "outputs": [],
   "source": [
    "import numpy as np\n",
    "import matplotlib\n",
    "import matplotlib.pyplot as plt\n",
    "matplotlib.rcParams.update({'font.size': 12})\n",
    "import pandas as pd\n",
    "from datetime import datetime\n",
    "from datetime import timedelta\n",
    "\n",
    "# meteorology - specific\n",
    "from siphon.simplewebservice.wyoming import WyomingUpperAir\n",
    "\n",
    "import sys\n",
    "sys.path.append('./scripts/')\n",
    "\n",
    "from LIB_dates import generate_date_list\n",
    "from LIB_request_WUA_sounding import check_for_WUA_soundings"
   ]
  },
  {
   "cell_type": "markdown",
   "id": "9edb8cc7",
   "metadata": {},
   "source": [
    "### Create list of dates to check"
   ]
  },
  {
   "cell_type": "code",
   "execution_count": 2,
   "id": "f0fa1376",
   "metadata": {},
   "outputs": [
    {
     "name": "stdout",
     "output_type": "stream",
     "text": [
      " >>> list of length 728 generated with 6-hourly steps between 2020-01-01 00:00:00 and 2020-06-30 18:00:00\n",
      " >>> with provided values, final date 2020-06-30 18:00:00 does not match provided date_f\n"
     ]
    }
   ],
   "source": [
    "#===============================\n",
    "year = 2020\n",
    "\n",
    "# initial date\n",
    "date_i = datetime(year, 1, 1, 0)\n",
    "# final date\n",
    "date_f = datetime(year, 6, 30, 23)\n",
    "\n",
    "# initial date\n",
    "date_i = datetime(year, 7, 1, 0)\n",
    "# final date\n",
    "date_f = datetime(year, 12, 31, 23)\n",
    "\n",
    "# time step in hours\n",
    "hourly = 6\n",
    "#===============================\n",
    "\n",
    "# homemade function\n",
    "# use help(generate_date_list) for details\n",
    "dates = generate_date_list(date_i = date_i, date_f = date_f, hourly = hourly, suppress_prints = False)"
   ]
  },
  {
   "cell_type": "markdown",
   "id": "1b1e55d4",
   "metadata": {},
   "source": [
    "### Use siphon to check whether sounding data exists on given dates\n",
    "save dates to pandas data frame with sounding_exist == 1 when data exists and sounding_exist == 0 when no data found"
   ]
  },
  {
   "cell_type": "code",
   "execution_count": 3,
   "id": "c05884f5",
   "metadata": {},
   "outputs": [
    {
     "name": "stdout",
     "output_type": "stream",
     "text": [
      "processed: 728: 100%|█████████████████████████| 728/728 [09:41<00:00,  1.25it/s]\n",
      "\n",
      ">>> (645/728) provided dates had sounding data\n",
      "\n",
      "                    date  sounding_exist\n",
      "0   2020-01-01 00:00:00               1\n",
      "1   2020-01-01 06:00:00               1\n",
      "2   2020-01-01 12:00:00               1\n",
      "3   2020-01-01 18:00:00               1\n",
      "4   2020-01-02 00:00:00               1\n",
      "..                  ...             ...\n",
      "723 2020-06-29 18:00:00               1\n",
      "724 2020-06-30 00:00:00               1\n",
      "725 2020-06-30 06:00:00               1\n",
      "726 2020-06-30 12:00:00               0\n",
      "727 2020-06-30 18:00:00               1\n",
      "\n",
      "[728 rows x 2 columns]\n",
      "\n",
      "\n",
      "runtime: 0:09:41.138683\n"
     ]
    }
   ],
   "source": [
    "starttime = datetime.now()\n",
    "\n",
    "# homemade function\n",
    "# use help(check_for_WUA_soundings) for details\n",
    "df = check_for_WUA_soundings(date_list = dates, station = 'PABR', show_progress = True)\n",
    "\n",
    "print('\\n', df)\n",
    "\n",
    "print(f'\\n\\nruntime: {datetime.now()-starttime}')"
   ]
  },
  {
   "cell_type": "markdown",
   "id": "89494b20",
   "metadata": {},
   "source": [
    "### Save list of dates to dataframe for later reference\n",
    "save dates to pandas data frame with sounding_exist == 1 when data exists and sounding_exist == 0 when no data found"
   ]
  },
  {
   "cell_type": "code",
   "execution_count": 5,
   "id": "9cb6a565",
   "metadata": {},
   "outputs": [
    {
     "name": "stdout",
     "output_type": "stream",
     "text": [
      " >>> saving file as ./sounding_checks/checked_20200101Z00_20200630Z23_hourly6.csv\n"
     ]
    },
    {
     "data": {
      "text/html": [
       "<div>\n",
       "<style scoped>\n",
       "    .dataframe tbody tr th:only-of-type {\n",
       "        vertical-align: middle;\n",
       "    }\n",
       "\n",
       "    .dataframe tbody tr th {\n",
       "        vertical-align: top;\n",
       "    }\n",
       "\n",
       "    .dataframe thead th {\n",
       "        text-align: right;\n",
       "    }\n",
       "</style>\n",
       "<table border=\"1\" class=\"dataframe\">\n",
       "  <thead>\n",
       "    <tr style=\"text-align: right;\">\n",
       "      <th></th>\n",
       "      <th>date</th>\n",
       "      <th>sounding_exist</th>\n",
       "    </tr>\n",
       "  </thead>\n",
       "  <tbody>\n",
       "    <tr>\n",
       "      <th>0</th>\n",
       "      <td>2020-01-01 00:00:00</td>\n",
       "      <td>1</td>\n",
       "    </tr>\n",
       "    <tr>\n",
       "      <th>1</th>\n",
       "      <td>2020-01-01 06:00:00</td>\n",
       "      <td>1</td>\n",
       "    </tr>\n",
       "    <tr>\n",
       "      <th>2</th>\n",
       "      <td>2020-01-01 12:00:00</td>\n",
       "      <td>1</td>\n",
       "    </tr>\n",
       "    <tr>\n",
       "      <th>3</th>\n",
       "      <td>2020-01-01 18:00:00</td>\n",
       "      <td>1</td>\n",
       "    </tr>\n",
       "    <tr>\n",
       "      <th>4</th>\n",
       "      <td>2020-01-02 00:00:00</td>\n",
       "      <td>1</td>\n",
       "    </tr>\n",
       "    <tr>\n",
       "      <th>...</th>\n",
       "      <td>...</td>\n",
       "      <td>...</td>\n",
       "    </tr>\n",
       "    <tr>\n",
       "      <th>723</th>\n",
       "      <td>2020-06-29 18:00:00</td>\n",
       "      <td>1</td>\n",
       "    </tr>\n",
       "    <tr>\n",
       "      <th>724</th>\n",
       "      <td>2020-06-30 00:00:00</td>\n",
       "      <td>1</td>\n",
       "    </tr>\n",
       "    <tr>\n",
       "      <th>725</th>\n",
       "      <td>2020-06-30 06:00:00</td>\n",
       "      <td>1</td>\n",
       "    </tr>\n",
       "    <tr>\n",
       "      <th>726</th>\n",
       "      <td>2020-06-30 12:00:00</td>\n",
       "      <td>0</td>\n",
       "    </tr>\n",
       "    <tr>\n",
       "      <th>727</th>\n",
       "      <td>2020-06-30 18:00:00</td>\n",
       "      <td>1</td>\n",
       "    </tr>\n",
       "  </tbody>\n",
       "</table>\n",
       "<p>728 rows × 2 columns</p>\n",
       "</div>"
      ],
      "text/plain": [
       "                    date  sounding_exist\n",
       "0    2020-01-01 00:00:00               1\n",
       "1    2020-01-01 06:00:00               1\n",
       "2    2020-01-01 12:00:00               1\n",
       "3    2020-01-01 18:00:00               1\n",
       "4    2020-01-02 00:00:00               1\n",
       "..                   ...             ...\n",
       "723  2020-06-29 18:00:00               1\n",
       "724  2020-06-30 00:00:00               1\n",
       "725  2020-06-30 06:00:00               1\n",
       "726  2020-06-30 12:00:00               0\n",
       "727  2020-06-30 18:00:00               1\n",
       "\n",
       "[728 rows x 2 columns]"
      ]
     },
     "execution_count": 5,
     "metadata": {},
     "output_type": "execute_result"
    }
   ],
   "source": [
    "# create name of csv file from date range\n",
    "date_i_string = date_i.strftime('%Y%m%dZ%H')\n",
    "date_f_string = date_f.strftime('%Y%m%dZ%H')\n",
    "save_name = f'./sounding_checks/checked_{date_i_string}_{date_f_string}_hourly{hourly}.csv'\n",
    "\n",
    "# save file\n",
    "df.to_csv(path_or_buf=save_name, index=None)\n",
    "print(f' >>> saving file as {save_name}')\n",
    "\n",
    "pd.read_csv(save_name)"
   ]
  },
  {
   "cell_type": "code",
   "execution_count": null,
   "id": "4896afbb",
   "metadata": {},
   "outputs": [],
   "source": []
  }
 ],
 "metadata": {
  "kernelspec": {
   "display_name": "geoenvOSU",
   "language": "python",
   "name": "geoenvosu"
  },
  "language_info": {
   "codemirror_mode": {
    "name": "ipython",
    "version": 3
   },
   "file_extension": ".py",
   "mimetype": "text/x-python",
   "name": "python",
   "nbconvert_exporter": "python",
   "pygments_lexer": "ipython3",
   "version": "3.9.12"
  }
 },
 "nbformat": 4,
 "nbformat_minor": 5
}
