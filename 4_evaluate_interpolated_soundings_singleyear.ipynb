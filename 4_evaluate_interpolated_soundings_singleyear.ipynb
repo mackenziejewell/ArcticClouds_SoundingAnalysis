{
 "cells": [
  {
   "cell_type": "markdown",
   "id": "3950e987",
   "metadata": {},
   "source": [
    "# Routine to read in available sounding data and interpolate to regular height interval (single year)\n",
    "\n",
    "\n",
    "https://weather.uwyo.edu/upperair/sounding.html"
   ]
  },
  {
   "cell_type": "code",
   "execution_count": 1,
   "id": "4f03ee80",
   "metadata": {},
   "outputs": [],
   "source": [
    "import numpy as np\n",
    "import matplotlib\n",
    "import matplotlib.pyplot as plt\n",
    "matplotlib.rcParams.update({'font.size': 12})\n",
    "import xarray as xr\n",
    "import pandas as pd\n",
    "from datetime import datetime\n",
    "from datetime import timedelta\n",
    "\n",
    "# meteorology - specific\n",
    "from metpy.calc import relative_humidity_from_dewpoint\n",
    "from metpy.units import units\n",
    "from siphon.simplewebservice.wyoming import WyomingUpperAir\n",
    "\n",
    "import sys\n",
    "sys.path.append('./scripts/')\n",
    "\n",
    "from LIB_dates import generate_date_list\n",
    "from LIB_request_WUA_sounding import check_for_WUA_soundings\n",
    "from LIB_sounding_analysis import (interpolate_soundings, \n",
    "                                   saturation_vaporpressures_from_temperature,\n",
    "                                   relative_humidity_from_temperature_pressure)\n",
    "from LIB_sounding_date_checks import grab_sounding_dates"
   ]
  },
  {
   "cell_type": "markdown",
   "id": "449d5040",
   "metadata": {},
   "source": [
    "### Specify parameters to retreive sounding data\n",
    "\n",
    "season should be either 'winter', 'spring', 'summer', 'autumn', or 'all' for all year"
   ]
  },
  {
   "cell_type": "code",
   "execution_count": 13,
   "id": "aaf81780",
   "metadata": {},
   "outputs": [],
   "source": [
    "# specify year, season, sounding hours\n",
    "# specify site and height range\n",
    "#===============================\n",
    "year = 1998\n",
    "season = 'summer'\n",
    "hours = [12]\n",
    "\n",
    "station = 'PABR'\n",
    "\n",
    "max_height = 6*units.kilometer\n",
    "min_height =  0*units.kilometer\n",
    "bin_width = 0.1*units.kilometer\n",
    "#===============================\n",
    "\n",
    "# julian day ranges for each season\n",
    "season_bounds = {}\n",
    "season_bounds['winter'] = {'start': 0,   'end': 91}\n",
    "season_bounds['spring'] = {'start': 91,  'end': 182}\n",
    "season_bounds['summer'] = {'start': 182, 'end': 274}\n",
    "season_bounds['autumn'] = {'start': 274, 'end': 366}\n",
    "\n",
    "# find all julian days (/hours) with soundings for given year\n",
    "doy, sou, year = grab_sounding_dates(csv=f'./sounding_checks/checked_{year}0101Z00_{year}1231Z23_hourly6.csv', hours=hours)\n",
    "days_with_soundings = doy[sou==1]\n",
    "\n",
    "# crop days to specified season\n",
    "if str(season) == 'all':\n",
    "    doy_soundings = days_with_soundings\n",
    "else:\n",
    "    doy_soundings = days_with_soundings[(days_with_soundings>(season_bounds[season]['start']))&\n",
    "                                          (days_with_soundings<=(season_bounds[season]['end']))]\n"
   ]
  },
  {
   "cell_type": "markdown",
   "id": "8c42446c",
   "metadata": {},
   "source": [
    "### Retrieve and interpolate data"
   ]
  },
  {
   "cell_type": "code",
   "execution_count": null,
   "id": "eb666977",
   "metadata": {},
   "outputs": [
    {
     "name": "stdout",
     "output_type": "stream",
     "text": [
      "1998-07-01 12:00:00\n"
     ]
    }
   ],
   "source": [
    "all_RH = np.array([])\n",
    "all_RH_liq = np.array([])\n",
    "all_RH_ice = np.array([])\n",
    "all_T = np.array([])\n",
    "all_dates = np.array([])\n",
    "all_doy = np.array([])\n",
    "\n",
    "for ii in range(len(doy_soundings)):\n",
    "    \n",
    "    # create date\n",
    "    doy = int(doy_soundings[ii]) # round down to julian day\n",
    "    hour = int(24*(doy_soundings[ii]%1)) # grab hours\n",
    "    date = datetime.strptime(f'{year}-{doy}-{hour}', '%Y-%j-%H')\n",
    "    \n",
    "    print(date)\n",
    "    \n",
    "    # request data using siphon\n",
    "    # try request multiple times in case there is error with first\n",
    "    num_tries = 5\n",
    "    for attempt in range(num_tries):\n",
    "        try:\n",
    "            df = WyomingUpperAir.request_data(date, station)\n",
    "            worked = True\n",
    "        except:\n",
    "            worked = False\n",
    "        if worked == True:\n",
    "            break\n",
    "    if worked == False:\n",
    "        df = []\n",
    "        print(f\"No data available for {date}\")\n",
    "            \n",
    "    # if data request was succesful:\n",
    "    # pull out T, Td, H and calculate RH\n",
    "    #-----------------------------------\n",
    "    if len(df) > 0:\n",
    "\n",
    "        # assign units to all data\n",
    "        height = df['height'].values * units(df.units['height']).to(units.kilometer)\n",
    "        temperature = df['temperature'].values * units(df.units['temperature'])\n",
    "        dewpoint = df['dewpoint'].values * units(df.units['dewpoint'])\n",
    "        pressure = df['pressure'].values * units(df.units['pressure'])\n",
    "\n",
    "        # crop all to below 10 km\n",
    "        H = height[height < 10*units.kilometer]\n",
    "        T = temperature[height < 10*units.kilometer]\n",
    "        Td = dewpoint[height < 10*units.kilometer]\n",
    "        P = pressure[height < 10*units.kilometer]\n",
    "\n",
    "        # calculate relative humidity\n",
    "        #----------------------------\n",
    "\n",
    "        # using metpy:\n",
    "        RH = relative_humidity_from_dewpoint(T, Td).to('percent')\n",
    "\n",
    "        # using own fuctions from formulas found in literature (and some metpy)\n",
    "        RH_liq, RH_ice = relative_humidity_from_temperature_pressure(P, Td, T, method = 'improved_magnus_1996')\n",
    "\n",
    "    # interpolate \n",
    "    #-----------------------------------  \n",
    "\n",
    "    try:\n",
    "        [new_RH_liq, new_RH_ice, new_RH, new_T], new_H, edges = interpolate_soundings(variable = [RH_liq, RH_ice, RH, T], heights = H, \n",
    "                                                              bin_width = bin_width, min_height = min_height, \n",
    "                                                              max_height = max_height, method = 'mean', \n",
    "                                                              suppress_plots = True, suppress_prints = True)\n",
    "        all_RH_liq = np.append(all_RH_liq, new_RH_liq)\n",
    "        all_RH_ice = np.append(all_RH_ice, new_RH_ice)\n",
    "        all_RH = np.append(all_RH, new_RH)\n",
    "        all_T = np.append(all_T, new_T)\n",
    "        all_dates = np.append(all_dates, date)\n",
    "        all_doy = np.append(all_doy, doy_soundings[ii])\n",
    "    \n",
    "    except:\n",
    "        print(f'  - issue with retrieval on {date}')\n",
    "        \n",
    "# reshape to dimensions: date, height\n",
    "RH_liq = np.reshape(all_RH_liq, (int(len(all_RH_liq)/len(new_H)), len(new_H)))\n",
    "RH_ice = np.reshape(all_RH_ice, (int(len(all_RH_ice)/len(new_H)), len(new_H)))\n",
    "RH = np.reshape(all_RH, (int(len(all_RH)/len(new_H)), len(new_H)))\n",
    "T = np.reshape(all_T, (int(len(all_T)/len(new_H)), len(new_H)))\n",
    "\n",
    "# create grids to plot with pcolormesh\n",
    "H, dates = np.meshgrid(new_H.magnitude, all_dates)\n",
    "H, DOY = np.meshgrid(new_H.magnitude, all_doy)\n",
    "\n",
    "\n",
    "# assign RH ice values to nan if T > 0 C\n",
    "for ii in range(np.shape(RH_ice)[0]):\n",
    "    for jj in range(np.shape(RH_ice)[1]):\n",
    "        if T[ii][jj]>0*units('degC'):\n",
    "            RH_ice[ii][jj] = np.nan\n",
    "            "
   ]
  },
  {
   "cell_type": "markdown",
   "id": "48f73770",
   "metadata": {},
   "source": [
    "### plot seasonal relative humidity and temperatures"
   ]
  },
  {
   "cell_type": "code",
   "execution_count": null,
   "id": "6233a50e",
   "metadata": {},
   "outputs": [],
   "source": [
    "# relative humidity w.r.t. liquid\n",
    "#--------------------------------\n",
    "fig, ax = plt.subplots(figsize=(10,2))\n",
    "rh = ax.pcolormesh(DOY, H, RH_liq, vmin=0, vmax=100, cmap='plasma')\n",
    "plt.colorbar(rh, label='RH liq (%)')\n",
    "ax.set_title(f'{season} {year}')\n",
    "ax.set_ylabel('height (km)')\n",
    "ax.set_xlabel('day of year')\n",
    "plt.show()\n",
    "\n",
    "# relative humidity w.r.t. ice\n",
    "#-----------------------------\n",
    "fig, ax = plt.subplots(figsize=(10,2))\n",
    "ax.set_facecolor('lightgray')\n",
    "rh = ax.pcolormesh(DOY, H, RH_ice, vmin=0, vmax=100, cmap='plasma')\n",
    "plt.colorbar(rh, label='RH ice (%)')\n",
    "ax.set_title(f'{season} {year}')\n",
    "ax.set_ylabel('height (km)')\n",
    "ax.set_xlabel('day of year')\n",
    "print('RH ice assigned to nan when T > 0 degC')\n",
    "plt.show()\n",
    "\n",
    "# temperature\n",
    "#------------\n",
    "fig, ax = plt.subplots(figsize=(10,2))\n",
    "t = ax.pcolormesh(DOY, H, T, vmin=-50, vmax=0)\n",
    "ax.contour(DOY, H, T, colors='k', linewidths=0.5, levels=[0], vmin=-50, vmax=0)\n",
    "plt.colorbar(t, label='T ($^{\\circ}$C)')\n",
    "ax.set_title(f'{season} {year}')\n",
    "ax.set_ylabel('height (km)')\n",
    "ax.set_xlabel('day of year')\n",
    "plt.show()"
   ]
  },
  {
   "cell_type": "markdown",
   "id": "3a069088",
   "metadata": {},
   "source": [
    "### Plot frequency of RH threshold passed seasonall as a function of height"
   ]
  },
  {
   "cell_type": "code",
   "execution_count": 12,
   "id": "816622a1",
   "metadata": {},
   "outputs": [
    {
     "data": {
      "text/plain": [
       "Text(0.5, 0, 'frequency (%)')"
      ]
     },
     "execution_count": 12,
     "metadata": {},
     "output_type": "execute_result"
    },
    {
     "data": {
      "image/png": "[encoded data removed]",
      "text/plain": [
       "<Figure size 200x500 with 1 Axes>"
      ]
     },
     "metadata": {},
     "output_type": "display_data"
    }
   ],
   "source": [
    "#===========================\n",
    "rh_thresh = 100*units.percent\n",
    "#===========================\n",
    "\n",
    "\n",
    "fig, ax = plt.subplots(figsize=(2,5))\n",
    "\n",
    "# liquid RH\n",
    "ax.plot(100*np.sum(RH_liq>=rh_thresh, axis=0)/RH.shape[0], \n",
    "        new_H, color='blue', lw = 2, label='liquid')\n",
    "\n",
    "# ice RH\n",
    "# nans (T > 0 C) will present as not exceeding threshold\n",
    "ax.plot(100*np.sum(RH_ice>=rh_thresh, axis=0)/RH.shape[0], \n",
    "        new_H, color='lightskyblue', lw = 2, label='ice')\n",
    "\n",
    "plt.legend(loc=9,bbox_to_anchor=(1.5,1))\n",
    "ax.set_title(f'{season} {year}\\nRH >= {rh_thresh}')\n",
    "ax.set_xlabel('frequency (%)')"
   ]
  },
  {
   "cell_type": "code",
   "execution_count": 11,
   "id": "43a5c374",
   "metadata": {},
   "outputs": [
    {
     "data": {
      "text/plain": [
       "<matplotlib.legend.Legend at 0x7f80ba1aba60>"
      ]
     },
     "execution_count": 11,
     "metadata": {},
     "output_type": "execute_result"
    },
    {
     "data": {
      "image/png": "[encoded data removed]",
      "text/plain": [
       "<Figure size 200x500 with 1 Axes>"
      ]
     },
     "metadata": {},
     "output_type": "display_data"
    }
   ],
   "source": [
    "\n",
    "def plot_var_spread(ax, var, color='red', label = 'winter'):\n",
    "    ax.plot(np.nanmean(var, axis=0), new_H, color=COLOR, lw = 2, label=label)\n",
    "    ax.fill_betweenx(new_H,\n",
    "                     np.nanmean(var.magnitude, axis=0)-np.nanstd(var.magnitude, axis=0), \n",
    "                     np.nanmean(var.magnitude, axis=0)+np.nanstd(var.magnitude, axis=0),\n",
    "                     alpha=0.1, zorder=-1, color=COLOR)\n",
    "    \n",
    "    \n",
    "fig, ax = plt.subplots(figsize=(2,5))\n",
    "\n",
    "#==========\n",
    "VAR = RH_liq\n",
    "#==========\n",
    "\n",
    "COLOR = 'blue'\n",
    "plot_var_spread(ax, VAR, color=COLOR, label = season)\n",
    "\n",
    "ax.set_title(f'{year}')\n",
    "plt.legend(fontsize=8)\n"
   ]
  },
  {
   "cell_type": "code",
   "execution_count": null,
   "id": "f5d0671e",
   "metadata": {},
   "outputs": [],
   "source": []
  }
 ],
 "metadata": {
  "kernelspec": {
   "display_name": "geoenvOSU",
   "language": "python",
   "name": "geoenvosu"
  },
  "language_info": {
   "codemirror_mode": {
    "name": "ipython",
    "version": 3
   },
   "file_extension": ".py",
   "mimetype": "text/x-python",
   "name": "python",
   "nbconvert_exporter": "python",
   "pygments_lexer": "ipython3",
   "version": "3.9.12"
  }
 },
 "nbformat": 4,
 "nbformat_minor": 5
}
